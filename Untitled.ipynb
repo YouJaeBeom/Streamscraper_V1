{
 "cells": [
  {
   "cell_type": "code",
   "execution_count": 1,
   "metadata": {},
   "outputs": [],
   "source": [
    "idlist0 = open(\"0.txt\", 'r')\n",
    "idlist1 = open(\"1.txt\", 'r')\n",
    "idlist2 = open(\"2.txt\", 'r')\n",
    "idlist3 = open(\"3.txt\", 'r')"
   ]
  },
  {
   "cell_type": "code",
   "execution_count": 2,
   "metadata": {},
   "outputs": [],
   "source": [
    "idlist0 = idlist0.read().split(\",\")\n",
    "idlist1 = idlist1.read().split(\",\")\n",
    "idlist2 = idlist2.read().split(\",\")\n",
    "idlist3 = idlist3.read().split(\",\")"
   ]
  },
  {
   "cell_type": "code",
   "execution_count": 3,
   "metadata": {},
   "outputs": [
    {
     "data": {
      "text/plain": [
       "(6170, 6170)"
      ]
     },
     "execution_count": 3,
     "metadata": {},
     "output_type": "execute_result"
    }
   ],
   "source": [
    "len(set(idlist0)),len((idlist0))"
   ]
  },
  {
   "cell_type": "code",
   "execution_count": 4,
   "metadata": {},
   "outputs": [
    {
     "data": {
      "text/plain": [
       "(6084, 6084)"
      ]
     },
     "execution_count": 4,
     "metadata": {},
     "output_type": "execute_result"
    }
   ],
   "source": [
    "len(set(idlist1)),len((idlist1))"
   ]
  },
  {
   "cell_type": "code",
   "execution_count": 5,
   "metadata": {},
   "outputs": [
    {
     "data": {
      "text/plain": [
       "(6139, 6139)"
      ]
     },
     "execution_count": 5,
     "metadata": {},
     "output_type": "execute_result"
    }
   ],
   "source": [
    "len(set(idlist2)),len((idlist2))"
   ]
  },
  {
   "cell_type": "code",
   "execution_count": 6,
   "metadata": {},
   "outputs": [
    {
     "data": {
      "text/plain": [
       "(6165, 6165)"
      ]
     },
     "execution_count": 6,
     "metadata": {},
     "output_type": "execute_result"
    }
   ],
   "source": [
    "len(set(idlist3)),len((idlist3))"
   ]
  },
  {
   "cell_type": "markdown",
   "metadata": {},
   "source": [
    "# 0 vs 1,2,3"
   ]
  },
  {
   "cell_type": "code",
   "execution_count": 7,
   "metadata": {},
   "outputs": [
    {
     "name": "stdout",
     "output_type": "stream",
     "text": [
      "6170\n",
      "6084\n",
      "5373\n"
     ]
    }
   ],
   "source": [
    "\n",
    "count=0\n",
    "\n",
    "for id in set(idlist0):\n",
    "    if id in idlist1:\n",
    "        count=count +1\n",
    "\n",
    "print(len((idlist0)))\n",
    "print(len((idlist1)))\n",
    "print(count)"
   ]
  },
  {
   "cell_type": "code",
   "execution_count": null,
   "metadata": {},
   "outputs": [],
   "source": []
  },
  {
   "cell_type": "code",
   "execution_count": 8,
   "metadata": {},
   "outputs": [
    {
     "name": "stdout",
     "output_type": "stream",
     "text": [
      "6170\n",
      "6139\n",
      "5436\n"
     ]
    }
   ],
   "source": [
    "\n",
    "count=0\n",
    "\n",
    "for id in set(idlist0):\n",
    "    if id in idlist2:\n",
    "        count=count +1\n",
    "\n",
    "print(len((idlist0)))\n",
    "print(len((idlist2)))\n",
    "print(count)"
   ]
  },
  {
   "cell_type": "code",
   "execution_count": 9,
   "metadata": {},
   "outputs": [
    {
     "name": "stdout",
     "output_type": "stream",
     "text": [
      "6170\n",
      "6165\n",
      "5444\n"
     ]
    }
   ],
   "source": [
    "\n",
    "count=0\n",
    "\n",
    "for id in set(idlist0):\n",
    "    if id in idlist3:\n",
    "        count=count +1\n",
    "\n",
    "print(len((idlist0)))\n",
    "print(len((idlist3)))\n",
    "print(count)"
   ]
  },
  {
   "cell_type": "markdown",
   "metadata": {},
   "source": [
    "# 1 vs 2,3"
   ]
  },
  {
   "cell_type": "code",
   "execution_count": 10,
   "metadata": {},
   "outputs": [
    {
     "name": "stdout",
     "output_type": "stream",
     "text": [
      "6084\n",
      "6139\n",
      "5373\n"
     ]
    }
   ],
   "source": [
    "\n",
    "count=0\n",
    "\n",
    "for id in set(idlist1):\n",
    "    if id in idlist2:\n",
    "        count=count +1\n",
    "\n",
    "print(len((idlist1)))\n",
    "print(len((idlist2)))\n",
    "print(count)"
   ]
  },
  {
   "cell_type": "code",
   "execution_count": 11,
   "metadata": {},
   "outputs": [
    {
     "name": "stdout",
     "output_type": "stream",
     "text": [
      "6084\n",
      "6165\n",
      "5376\n"
     ]
    }
   ],
   "source": [
    "\n",
    "count=0\n",
    "\n",
    "for id in set(idlist1):\n",
    "    if id in idlist3:\n",
    "        count=count +1\n",
    "\n",
    "print(len((idlist1)))\n",
    "print(len((idlist3)))\n",
    "print(count)"
   ]
  },
  {
   "cell_type": "markdown",
   "metadata": {},
   "source": [
    "# 2 vs 3"
   ]
  },
  {
   "cell_type": "code",
   "execution_count": 12,
   "metadata": {},
   "outputs": [
    {
     "name": "stdout",
     "output_type": "stream",
     "text": [
      "6139\n",
      "6165\n",
      "5459\n"
     ]
    }
   ],
   "source": [
    "\n",
    "count=0\n",
    "\n",
    "for id in set(idlist2):\n",
    "    if id in idlist3:\n",
    "        count=count +1\n",
    "\n",
    "print(len((idlist2)))\n",
    "print(len((idlist3)))\n",
    "print(count)"
   ]
  },
  {
   "cell_type": "code",
   "execution_count": null,
   "metadata": {},
   "outputs": [],
   "source": []
  },
  {
   "cell_type": "code",
   "execution_count": null,
   "metadata": {},
   "outputs": [],
   "source": []
  },
  {
   "cell_type": "code",
   "execution_count": null,
   "metadata": {},
   "outputs": [],
   "source": []
  }
 ],
 "metadata": {
  "kernelspec": {
   "display_name": "Python 3",
   "language": "python",
   "name": "python3"
  },
  "language_info": {
   "codemirror_mode": {
    "name": "ipython",
    "version": 3
   },
   "file_extension": ".py",
   "mimetype": "text/x-python",
   "name": "python",
   "nbconvert_exporter": "python",
   "pygments_lexer": "ipython3",
   "version": "3.7.3"
  }
 },
 "nbformat": 4,
 "nbformat_minor": 2
}
